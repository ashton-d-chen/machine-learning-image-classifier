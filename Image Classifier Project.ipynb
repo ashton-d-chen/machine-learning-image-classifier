{
 "cells": [
  {
   "cell_type": "markdown",
   "metadata": {},
   "source": [
    "# Developing an AI application\n",
    "\n",
    "Going forward, AI algorithms will be incorporated into more and more everyday applications. For example, you might want to include an image classifier in a smart phone app. To do this, you'd use a deep learning model trained on hundreds of thousands of images as part of the overall application architecture. A large part of software development in the future will be using these types of models as common parts of applications. \n",
    "\n",
    "In this project, you'll train an image classifier to recognize different species of flowers. You can imagine using something like this in a phone app that tells you the name of the flower your camera is looking at. In practice you'd train this classifier, then export it for use in your application. We'll be using [this dataset](http://www.robots.ox.ac.uk/~vgg/data/flowers/102/index.html) of 102 flower categories, you can see a few examples below. \n",
    "\n",
    "<img src='assets/Flowers.png' width=500px>\n",
    "\n",
    "The project is broken down into multiple steps:\n",
    "\n",
    "* Load and preprocess the image dataset\n",
    "* Train the image classifier on your dataset\n",
    "* Use the trained classifier to predict image content\n",
    "\n",
    "We'll lead you through each part which you'll implement in Python.\n",
    "\n",
    "When you've completed this project, you'll have an application that can be trained on any set of labeled images. Here your network will be learning about flowers and end up as a command line application. But, what you do with your new skills depends on your imagination and effort in building a dataset. For example, imagine an app where you take a picture of a car, it tells you what the make and model is, then looks up information about it. Go build your own dataset and make something new.\n",
    "\n",
    "First up is importing the packages you'll need. It's good practice to keep all the imports at the beginning of your code. As you work through this notebook and find you need to import a package, make sure to add the import up here."
   ]
  },
  {
   "cell_type": "code",
   "execution_count": 143,
   "metadata": {},
   "outputs": [],
   "source": [
    "# Imports here\n",
    "import os\n",
    "import numpy as np\n",
    "import torch\n",
    "from torch import nn, optim\n",
    "from torchvision import datasets, transforms\n",
    "import torch.nn.functional as F\n",
    "import torchvision.models as models\n",
    "import time\n",
    "from PIL import Image\n",
    "from matplotlib import pyplot as plt\n",
    "import json\n",
    "from collections import OrderedDict\n",
    "from torch.autograd import Variable"
   ]
  },
  {
   "cell_type": "markdown",
   "metadata": {},
   "source": [
    "## Load the data\n",
    "\n",
    "Here you'll use `torchvision` to load the data ([documentation](http://pytorch.org/docs/0.3.0/torchvision/index.html)). The data should be included alongside this notebook, otherwise you can [download it here](https://s3.amazonaws.com/content.udacity-data.com/nd089/flower_data.tar.gz). The dataset is split into three parts, training, validation, and testing. For the training, you'll want to apply transformations such as random scaling, cropping, and flipping. This will help the network generalize leading to better performance. You'll also need to make sure the input data is resized to 224x224 pixels as required by the pre-trained networks.\n",
    "\n",
    "The validation and testing sets are used to measure the model's performance on data it hasn't seen yet. For this you don't want any scaling or rotation transformations, but you'll need to resize then crop the images to the appropriate size.\n",
    "\n",
    "The pre-trained networks you'll use were trained on the ImageNet dataset where each color channel was normalized separately. For all three sets you'll need to normalize the means and standard deviations of the images to what the network expects. For the means, it's `[0.485, 0.456, 0.406]` and for the standard deviations `[0.229, 0.224, 0.225]`, calculated from the ImageNet images.  These values will shift each color channel to be centered at 0 and range from -1 to 1.\n",
    " "
   ]
  },
  {
   "cell_type": "code",
   "execution_count": 87,
   "metadata": {},
   "outputs": [],
   "source": [
    "data_dir = 'flowers'\n",
    "train_dir = data_dir + '/train'\n",
    "valid_dir = data_dir + '/valid'\n",
    "test_dir = data_dir + '/test'"
   ]
  },
  {
   "cell_type": "code",
   "execution_count": 88,
   "metadata": {},
   "outputs": [],
   "source": [
    "# TODO: Define your transforms for the training, validation, and testing sets\n",
    "train_transforms = transforms.Compose([transforms.Resize(255),\n",
    "                                    transforms.RandomHorizontalFlip(),transforms.RandomRotation(30),\n",
    "                                     transforms.CenterCrop(224),\n",
    "                                     transforms.ToTensor(),\n",
    "                                     transforms.Normalize([0.485, 0.456, 0.406], \n",
    "                                     [0.229, 0.224, 0.225])])\n",
    "\n",
    "test_transforms = transforms.Compose([transforms.Resize(255),\n",
    "                                     transforms.CenterCrop(224),\n",
    "                                     transforms.ToTensor(),\n",
    "                                     transforms.Normalize([0.485, 0.456, 0.406], \n",
    "                                     [0.229, 0.224, 0.225])])\n",
    "\n",
    "valid_transforms = transforms.Compose([transforms.Resize(255),\n",
    "                                     transforms.CenterCrop(224),\n",
    "                                     transforms.ToTensor(),\n",
    "                                     transforms.Normalize([0.485, 0.456, 0.406], \n",
    "                                     [0.229, 0.224, 0.225])])\n",
    "\n",
    "# TODO: Load the datasets with ImageFolder\n",
    "train_dataset = datasets.ImageFolder(train_dir, transform=train_transforms)\n",
    "test_dataset = datasets.ImageFolder(test_dir, transform=test_transforms)\n",
    "valid_dataset = datasets.ImageFolder(valid_dir, transform=valid_transforms)\n",
    "\n",
    "# TODO: Using the image datasets and the trainforms, define the dataloaders\n",
    "train_dataloader = torch.utils.data.DataLoader(train_dataset, batch_size=102, shuffle=True)\n",
    "test_dataloader = torch.utils.data.DataLoader(test_dataset, batch_size=102, shuffle=True)\n",
    "valid_dataloader = torch.utils.data.DataLoader(valid_dataset, batch_size=102, shuffle=True)"
   ]
  },
  {
   "cell_type": "markdown",
   "metadata": {},
   "source": [
    "### Label mapping\n",
    "\n",
    "You'll also need to load in a mapping from category label to category name. You can find this in the file `cat_to_name.json`. It's a JSON object which you can read in with the [`json` module](https://docs.python.org/2/library/json.html). This will give you a dictionary mapping the integer encoded categories to the actual names of the flowers."
   ]
  },
  {
   "cell_type": "code",
   "execution_count": 89,
   "metadata": {},
   "outputs": [],
   "source": [
    "def load_json(path):\n",
    "    with open(path, 'r') as f:\n",
    "        return json.load(f)\n",
    "\n",
    "    \n",
    "cat_to_name = load_json('cat_to_name.json')"
   ]
  },
  {
   "cell_type": "markdown",
   "metadata": {},
   "source": [
    "# Building and training the classifier\n",
    "\n",
    "Now that the data is ready, it's time to build and train the classifier. As usual, you should use one of the pretrained models from `torchvision.models` to get the image features. Build and train a new feed-forward classifier using those features.\n",
    "\n",
    "We're going to leave this part up to you. Refer to [the rubric](https://review.udacity.com/#!/rubrics/1663/view) for guidance on successfully completing this section. Things you'll need to do:\n",
    "\n",
    "* Load a [pre-trained network](http://pytorch.org/docs/master/torchvision/models.html) (If you need a starting point, the VGG networks work great and are straightforward to use)\n",
    "* Define a new, untrained feed-forward network as a classifier, using ReLU activations and dropout\n",
    "* Train the classifier layers using backpropagation using the pre-trained network to get the features\n",
    "* Track the loss and accuracy on the validation set to determine the best hyperparameters\n",
    "\n",
    "We've left a cell open for you below, but use as many as you need. Our advice is to break the problem up into smaller parts you can run separately. Check that each part is doing what you expect, then move on to the next. You'll likely find that as you work through each part, you'll need to go back and modify your previous code. This is totally normal!\n",
    "\n",
    "When training make sure you're updating only the weights of the feed-forward network. You should be able to get the validation accuracy above 70% if you build everything right. Make sure to try different hyperparameters (learning rate, units in the classifier, epochs, etc) to find the best model. Save those hyperparameters to use as default values in the next part of the project.\n",
    "\n",
    "One last important tip if you're using the workspace to run your code: To avoid having your workspace disconnect during the long-running tasks in this notebook, please read in the earlier page in this lesson called Intro to\n",
    "GPU Workspaces about Keeping Your Session Active. You'll want to include code from the workspace_utils.py module.\n",
    "\n",
    "**Note for Workspace users:** If your network is over 1 GB when saved as a checkpoint, there might be issues with saving backups in your workspace. Typically this happens with wide dense layers after the convolutional layers. If your saved checkpoint is larger than 1 GB (you can open a terminal and check with `ls -lh`), you should reduce the size of your hidden layers and train again."
   ]
  },
  {
   "cell_type": "code",
   "execution_count": 124,
   "metadata": {},
   "outputs": [
    {
     "name": "stdout",
     "output_type": "stream",
     "text": [
      "Sequential(\n",
      "  (0): Linear(in_features=25088, out_features=4096, bias=True)\n",
      "  (1): ReLU(inplace)\n",
      "  (2): Dropout(p=0.5)\n",
      "  (3): Linear(in_features=4096, out_features=4096, bias=True)\n",
      "  (4): ReLU(inplace)\n",
      "  (5): Dropout(p=0.5)\n",
      "  (6): Linear(in_features=4096, out_features=1000, bias=True)\n",
      ")\n",
      "Epoch 1/1.. Train loss: 10.070.. \n",
      "Test loss: 9.447.. Test accuracy: 0.089\n",
      "Epoch 1/1.. Train loss: 7.096.. \n",
      "Test loss: 4.021.. Test accuracy: 0.247\n",
      "Epoch 1/1.. Train loss: 3.591.. \n",
      "Test loss: 2.817.. Test accuracy: 0.389\n",
      "Epoch 1/1.. Train loss: 2.921.. \n",
      "Test loss: 2.348.. Test accuracy: 0.465\n",
      "Epoch 1/1.. Train loss: 2.366.. \n",
      "Test loss: 1.834.. Test accuracy: 0.549\n",
      "Epoch 1/1.. Train loss: 1.945.. \n",
      "Test loss: 1.447.. Test accuracy: 0.632\n",
      "Epoch 1/1.. Train loss: 1.568.. \n",
      "Test loss: 1.174.. Test accuracy: 0.691\n",
      "Epoch 1/1.. Train loss: 1.377.. \n",
      "Test loss: 1.095.. Test accuracy: 0.709\n",
      "Epoch 1/1.. Train loss: 1.324.. \n",
      "Test loss: 1.034.. Test accuracy: 0.723\n",
      "Epoch 1/1.. Train loss: 1.248.. \n",
      "Test loss: 0.900.. Test accuracy: 0.756\n",
      "Epoch 1/1.. Train loss: 1.111.. \n",
      "Test loss: 0.777.. Test accuracy: 0.791\n",
      "Epoch 1/1.. Train loss: 1.072.. \n",
      "Test loss: 0.740.. Test accuracy: 0.803\n",
      "Epoch 1/1.. Train loss: 1.001.. \n",
      "Test loss: 0.666.. Test accuracy: 0.815\n"
     ]
    }
   ],
   "source": [
    "# TODO: Build and train your network\n",
    "def build_model(model_name, hidden_layers, output_size, class_to_idx):\n",
    "    model = models.densenet121(pretrained=True)\n",
    "    classifier_input_size = model.classifier.in_features\n",
    "    if (model_name == 'densenet121'):\n",
    "        model = models.densenet121(pretrained=True)\n",
    "        classifier_input_size = model.classifier.in_features\n",
    "    elif (model_name == 'vgg16'):\n",
    "        model = models.vgg16(pretrained=True)\n",
    "        classifier_input_size = model.classifier[0].in_features\n",
    "        \n",
    "    for param in model.parameters():\n",
    "        param.requires_grad = False\n",
    "\n",
    "    classifier = nn.Sequential(OrderedDict([\n",
    "        ('fc1', nn.Linear(classifier_input_size, hidden_layers)),\n",
    "        ('relu', nn.ReLU()),\n",
    "        ('fc2', nn.Linear(hidden_layers, output_size)),\n",
    "        ('output', nn.LogSoftmax(dim=1))\n",
    "    ]))\n",
    "    \n",
    "    model.classifier = classifier\n",
    "    model.in_features = classifier_input_size\n",
    "    model.class_to_idx = class_to_idx\n",
    "    return model\n",
    "\n",
    "\n",
    "def train(model, data_loader, learning_rate, epochs, gpu):\n",
    "    device = torch.device(\"cuda\" if gpu and torch.cuda.is_available() else \"cpu\")\n",
    "    criterion = nn.NLLLoss()\n",
    "\n",
    "    model.optimizer = optim.Adam(model.classifier.parameters(), lr=learning_rate)\n",
    "\n",
    "    model.to(device);\n",
    "\n",
    "    steps = 0\n",
    "    running_loss = 0\n",
    "    print_every = 5\n",
    "\n",
    "    for epoch in range(epochs):\n",
    "        for inputs, labels in data_loader:\n",
    "            steps += 1\n",
    "\n",
    "            inputs, labels = inputs.to(device), labels.to(device)\n",
    "            model.optimizer.zero_grad()\n",
    "\n",
    "            logps = model.forward(inputs)\n",
    "            loss = criterion(logps, labels)\n",
    "            loss.backward()\n",
    "            model.optimizer.step()\n",
    "\n",
    "            running_loss += loss.item()\n",
    "\n",
    "            if steps % print_every == 0:\n",
    "                print(f\"Epoch {epoch+1}/{epochs}.. \"\n",
    "                      f\"Train loss: {running_loss/print_every:.3f}.. \")\n",
    "                running_loss = 0\n",
    "                validate(data_loader, model, gpu)\n",
    "\n",
    "            \n",
    "def validate(test_dataloader, model, gpu):\n",
    "    criterion = nn.NLLLoss()\n",
    "    device = torch.device(\"cuda\" if gpu and torch.cuda.is_available() else \"cpu\")\n",
    "    test_loss = 0\n",
    "    accuracy = 0\n",
    "    model.eval()\n",
    "    with torch.no_grad():\n",
    "        for inputs, labels in test_dataloader:\n",
    "            inputs, labels = inputs.to(device), labels.to(device)\n",
    "            \n",
    "            outputs = model.forward(inputs)\n",
    "            \n",
    "            test_loss += criterion(outputs, labels).item()\n",
    "\n",
    "            ps = torch.exp(outputs)\n",
    "            top_p, top_class = ps.topk(1, dim=1)\n",
    "            equals = top_class == labels.view(*top_class.shape)\n",
    "            accuracy += torch.mean(equals.type(torch.FloatTensor)).item()\n",
    "\n",
    "    print(f\"Test loss: {test_loss/len(test_dataloader):.3f}.. \"\n",
    "          f\"Test accuracy: {accuracy/len(test_dataloader):.3f}\")\n",
    "    model.train()\n",
    "\n",
    "architecture = 'vgg16'\n",
    "learning_rate = 0.003\n",
    "hidden_units = 512\n",
    "epochs = 1\n",
    "gpu = True\n",
    "data_directory = train_dir\n",
    "output_size = len(next(os.walk(data_directory))[1])\n",
    "    \n",
    "data_loader = train_dataloader\n",
    "model = build_model(architecture, hidden_units, output_size, train_dataset.class_to_idx)\n",
    "\n",
    "train(model, data_loader, learning_rate, epochs, gpu)"
   ]
  },
  {
   "cell_type": "markdown",
   "metadata": {},
   "source": [
    "## Testing your network\n",
    "\n",
    "It's good practice to test your trained network on test data, images the network has never seen either in training or validation. This will give you a good estimate for the model's performance on completely new images. Run the test images through the network and measure the accuracy, the same way you did validation. You should be able to reach around 70% accuracy on the test set if the model has been trained well."
   ]
  },
  {
   "cell_type": "code",
   "execution_count": 125,
   "metadata": {},
   "outputs": [
    {
     "name": "stdout",
     "output_type": "stream",
     "text": [
      "Test loss: 1.316.. Test accuracy: 0.674\n"
     ]
    }
   ],
   "source": [
    "# TODO: Do validation on the test set\n",
    "validate(test_dataloader, model, gpu)"
   ]
  },
  {
   "cell_type": "markdown",
   "metadata": {},
   "source": [
    "## Save the checkpoint\n",
    "\n",
    "Now that your network is trained, save the model so you can load it later for making predictions. You probably want to save other things such as the mapping of classes to indices which you get from one of the image datasets: `image_datasets['train'].class_to_idx`. You can attach this to the model as an attribute which makes inference easier later on.\n",
    "\n",
    "```model.class_to_idx = image_datasets['train'].class_to_idx```\n",
    "\n",
    "Remember that you'll want to completely rebuild the model later so you can use it for inference. Make sure to include any information you need in the checkpoint. If you want to load the model and keep training, you'll want to save the number of epochs as well as the optimizer state, `optimizer.state_dict`. You'll likely want to use this trained model in the next part of the project, so best to save it now."
   ]
  },
  {
   "cell_type": "code",
   "execution_count": 126,
   "metadata": {},
   "outputs": [],
   "source": [
    "# TODO: Save the checkpoint \n",
    "def save(file_path, architecture, input_size, hidden_layers, output_size, optimizer, class_to_idx, state_dict):\n",
    "    model.cpu()\n",
    "    checkpoint = {'architecture': architecture,\n",
    "                  'input_size': input_size,\n",
    "                  'hidden_layers': hidden_layers,\n",
    "                  'output_size': output_size,\n",
    "                  'class_to_idx': class_to_idx,\n",
    "                  'optimizer' : optimizer.state_dict(),\n",
    "                  'state_dict': state_dict}\n",
    "    torch.save(checkpoint, file_path)\n",
    "    \n",
    "save_dir = 'checkpoint.pth'\n",
    "save(save_dir, \n",
    "     architecture, \n",
    "     model.in_features, \n",
    "     hidden_layers, \n",
    "     output_size, \n",
    "     model.optimizer,\n",
    "     model.class_to_idx, \n",
    "     model.state_dict())"
   ]
  },
  {
   "cell_type": "markdown",
   "metadata": {},
   "source": [
    "## Loading the checkpoint\n",
    "\n",
    "At this point it's good to write a function that can load a checkpoint and rebuild the model. That way you can come back to this project and keep working on it without having to retrain the network."
   ]
  },
  {
   "cell_type": "code",
   "execution_count": 127,
   "metadata": {},
   "outputs": [
    {
     "name": "stdout",
     "output_type": "stream",
     "text": [
      "Sequential(\n",
      "  (0): Linear(in_features=25088, out_features=4096, bias=True)\n",
      "  (1): ReLU(inplace)\n",
      "  (2): Dropout(p=0.5)\n",
      "  (3): Linear(in_features=4096, out_features=4096, bias=True)\n",
      "  (4): ReLU(inplace)\n",
      "  (5): Dropout(p=0.5)\n",
      "  (6): Linear(in_features=4096, out_features=1000, bias=True)\n",
      ")\n"
     ]
    }
   ],
   "source": [
    "# TODO: Write a function that loads a checkpoint and rebuilds the model\n",
    "def load(checkpoint_path):\n",
    "    checkpoint = torch.load(checkpoint_path)\n",
    "    model = build_model(checkpoint['architecture'], checkpoint['hidden_layers'], checkpoint['output_size'], checkpoint['class_to_idx'])\n",
    "    model.load_state_dict(checkpoint['state_dict'])\n",
    "#     optimizer.load_state_dict(checkpoint['optimizer'])\n",
    "#     print(\"Loaded '{}' (arch={}, hidden_layers={})\".format(\n",
    "#     checkpoint_path, \n",
    "#     checkpoint['architecture'], \n",
    "#     checkpoint['hidden_layers']))\n",
    "    return model\n",
    "\n",
    "checkpoint_path = 'checkpoint.pth'\n",
    "model = load(checkpoint_path)\n"
   ]
  },
  {
   "cell_type": "markdown",
   "metadata": {},
   "source": [
    "# Inference for classification\n",
    "\n",
    "Now you'll write a function to use a trained network for inference. That is, you'll pass an image into the network and predict the class of the flower in the image. Write a function called `predict` that takes an image and a model, then returns the top $K$ most likely classes along with the probabilities. It should look like \n",
    "\n",
    "```python\n",
    "probs, classes = predict(image_path, model)\n",
    "print(probs)\n",
    "print(classes)\n",
    "> [ 0.01558163  0.01541934  0.01452626  0.01443549  0.01407339]\n",
    "> ['70', '3', '45', '62', '55']\n",
    "```\n",
    "\n",
    "First you'll need to handle processing the input image such that it can be used in your network. \n",
    "\n",
    "## Image Preprocessing\n",
    "\n",
    "You'll want to use `PIL` to load the image ([documentation](https://pillow.readthedocs.io/en/latest/reference/Image.html)). It's best to write a function that preprocesses the image so it can be used as input for the model. This function should process the images in the same manner used for training. \n",
    "\n",
    "First, resize the images where the shortest side is 256 pixels, keeping the aspect ratio. This can be done with the [`thumbnail`](http://pillow.readthedocs.io/en/3.1.x/reference/Image.html#PIL.Image.Image.thumbnail) or [`resize`](http://pillow.readthedocs.io/en/3.1.x/reference/Image.html#PIL.Image.Image.thumbnail) methods. Then you'll need to crop out the center 224x224 portion of the image.\n",
    "\n",
    "Color channels of images are typically encoded as integers 0-255, but the model expected floats 0-1. You'll need to convert the values. It's easiest with a Numpy array, which you can get from a PIL image like so `np_image = np.array(pil_image)`.\n",
    "\n",
    "As before, the network expects the images to be normalized in a specific way. For the means, it's `[0.485, 0.456, 0.406]` and for the standard deviations `[0.229, 0.224, 0.225]`. You'll want to subtract the means from each color channel, then divide by the standard deviation. \n",
    "\n",
    "And finally, PyTorch expects the color channel to be the first dimension but it's the third dimension in the PIL image and Numpy array. You can reorder dimensions using [`ndarray.transpose`](https://docs.scipy.org/doc/numpy-1.13.0/reference/generated/numpy.ndarray.transpose.html). The color channel needs to be first and retain the order of the other two dimensions."
   ]
  },
  {
   "cell_type": "code",
   "execution_count": 205,
   "metadata": {},
   "outputs": [],
   "source": [
    "def process_image(image):\n",
    "    ''' Scales, crops, and normalizes a PIL image for a PyTorch model,\n",
    "        returns an Numpy array\n",
    "    '''\n",
    "\n",
    "    # TODO: Process a PIL image for use in a PyTorch model\n",
    "#     transform = transforms.Compose([\n",
    "#         transforms.Resize(256),\n",
    "#         transforms.CenterCrop(224),\n",
    "#         transforms.ToTensor(),\n",
    "#         transforms.Normalize(mean=[0.485, 0.456, 0.406], std=[0.229, 0.224, 0.225])\n",
    "#     ])\n",
    "#     processed_image = transform(image)\n",
    "    \n",
    "    \n",
    "    thumbnail_size = 256\n",
    "    crop_size = 224\n",
    "    \n",
    "    width, height = image.size\n",
    "\n",
    "    if height > width:\n",
    "        new_width = int(thumbnail_size)\n",
    "        new_height = int(max(height * thumbnail_size / width, 1))\n",
    "    else:\n",
    "        new_width = int(max(width * thumbnail_size / height, 1))\n",
    "        new_height = int(thumbnail_size)\n",
    "\n",
    "        \n",
    "    left = (new_width - crop_size) / 2\n",
    "    top = (new_height - crop_size) / 2\n",
    "    right = (new_width + crop_size) / 2\n",
    "    bottom = (new_height + crop_size) /2\n",
    "    \n",
    "\n",
    "    image.thumbnail((new_width, new_height), Image.ANTIALIAS)\n",
    "    \n",
    "    cropped_image = image.crop((left, top, right, bottom))\n",
    "\n",
    "    np_image = np.array(cropped_image) / 255.\n",
    "    \n",
    "    mean = np.array([0.485, 0.456, 0.406])\n",
    "    std = np.array([0.229, 0.224, 0.225])     \n",
    "    \n",
    "    np_image_array = (np_image - mean) / std\n",
    "    np_image_array = np_image.transpose((2, 0, 1))\n",
    "    \n",
    "    processed_image = torch.from_numpy(np_image_array)\n",
    "    \n",
    "    return processed_image"
   ]
  },
  {
   "cell_type": "markdown",
   "metadata": {},
   "source": [
    "To check your work, the function below converts a PyTorch tensor and displays it in the notebook. If your `process_image` function works, running the output through this function should return the original image (except for the cropped out portions)."
   ]
  },
  {
   "cell_type": "code",
   "execution_count": 170,
   "metadata": {},
   "outputs": [],
   "source": [
    "def imshow(image, ax=None, title=None):\n",
    "    \"\"\"Imshow for Tensor.\"\"\"\n",
    "    if ax is None:\n",
    "        fig, ax = plt.subplots()\n",
    "    if title:\n",
    "        plt.title(title)\n",
    "    # PyTorch tensors assume the color channel is the first dimension\n",
    "    # but matplotlib assumes is the third dimension\n",
    "    image = image.numpy().transpose((1, 2, 0))\n",
    "    \n",
    "    # Undo preprocessing\n",
    "    mean = np.array([0.485, 0.456, 0.406])\n",
    "    std = np.array([0.229, 0.224, 0.225])\n",
    "    image = std * image + mean\n",
    "    \n",
    "    # Image needs to be clipped between 0 and 1 or it looks like noise when displayed\n",
    "    image = np.clip(image, 0, 1)\n",
    "    ax.axis('off')\n",
    "    ax.imshow(image)\n",
    "\n",
    "    return ax"
   ]
  },
  {
   "cell_type": "markdown",
   "metadata": {},
   "source": [
    "## Class Prediction\n",
    "\n",
    "Once you can get images in the correct format, it's time to write a function for making predictions with your model. A common practice is to predict the top 5 or so (usually called top-$K$) most probable classes. You'll want to calculate the class probabilities then find the $K$ largest values.\n",
    "\n",
    "To get the top $K$ largest values in a tensor use [`x.topk(k)`](http://pytorch.org/docs/master/torch.html#torch.topk). This method returns both the highest `k` probabilities and the indices of those probabilities corresponding to the classes. You need to convert from these indices to the actual class labels using `class_to_idx` which hopefully you added to the model or from an `ImageFolder` you used to load the data ([see here](#Save-the-checkpoint)). Make sure to invert the dictionary so you get a mapping from index to class as well.\n",
    "\n",
    "Again, this method should take a path to an image and a model checkpoint, then return the probabilities and classes.\n",
    "\n",
    "```python\n",
    "probs, classes = predict(image_path, model)\n",
    "print(probs)\n",
    "print(classes)\n",
    "> [ 0.01558163  0.01541934  0.01452626  0.01443549  0.01407339]\n",
    "> ['70', '3', '45', '62', '55']\n",
    "```"
   ]
  },
  {
   "cell_type": "code",
   "execution_count": 207,
   "metadata": {},
   "outputs": [
    {
     "name": "stderr",
     "output_type": "stream",
     "text": [
      "C:\\Users\\Ashton\\Anaconda3\\lib\\site-packages\\ipykernel_launcher.py:12: UserWarning: volatile was removed and now has no effect. Use `with torch.no_grad():` instead.\n",
      "  if sys.path[0] == '':\n"
     ]
    },
    {
     "name": "stdout",
     "output_type": "stream",
     "text": [
      "pink primrose: 45.14%\n",
      "tree mallow: 29.97%\n",
      "balloon flower: 7.07%\n",
      "silverbush: 4.57%\n",
      "mexican aster: 3.11%\n"
     ]
    }
   ],
   "source": [
    "def predict(image_path, model, topk, use_gpu):\n",
    "    ''' Predict the class (or classes) of an image using a trained deep learning model.\n",
    "    '''\n",
    "    model.eval()\n",
    "    \n",
    "    image = Image.open(image_path)\n",
    "    np_array = process_image(image)\n",
    "    tensor = np_array\n",
    "    \n",
    "    if use_gpu and torch.cuda.is_available():\n",
    "        model = model.cuda()\n",
    "        var_inputs = Variable(tensor.float().cuda(), volatile=True)\n",
    "    else:       \n",
    "        model = model.cpu()\n",
    "        var_inputs = Variable(tensor, volatile=True)\n",
    "    \n",
    "    var_inputs = var_inputs.unsqueeze(0)\n",
    "    output = model.forward(var_inputs)  \n",
    "    ps = torch.exp(output).data.topk(topk)\n",
    "    probabilities = ps[0].cpu() if use_gpu and torch.cuda.is_available() else ps[0]\n",
    "    classes = ps[1].cpu() if use_gpu and torch.cuda.is_available() else ps[1]\n",
    "    class_to_idx_inverted = {model.class_to_idx[k]: k for k in model.class_to_idx}\n",
    "    mapped_classes = list()\n",
    "    for label in classes.numpy()[0]:\n",
    "        mapped_classes.append(class_to_idx_inverted[label])\n",
    "    return probabilities.numpy()[0], mapped_classes\n",
    "\n",
    "\n",
    "def display_result(probabilities, classes, class_to_name):\n",
    "    for i in range(len(classes)):\n",
    "        print(f\"{class_to_name[classes[i]]}: {(probabilities[i] * 100):.2f}%\")\n",
    "        \n",
    "        \n",
    "image_path = valid_dir + '/1/image_06739.jpg'\n",
    "topk = 5\n",
    "use_gpu = True\n",
    "\n",
    "\n",
    "\n",
    "probabilities, classes = predict(image_path, model, topk, use_gpu)\n",
    "\n",
    "class_to_name = load_json('cat_to_name.json')\n",
    "display_result(probabilities, classes, class_to_name)\n"
   ]
  },
  {
   "cell_type": "markdown",
   "metadata": {},
   "source": [
    "## Sanity Checking\n",
    "\n",
    "Now that you can use a trained model for predictions, check to make sure it makes sense. Even if the testing accuracy is high, it's always good to check that there aren't obvious bugs. Use `matplotlib` to plot the probabilities for the top 5 classes as a bar graph, along with the input image. It should look like this:\n",
    "\n",
    "<img src='assets/inference_example.png' width=300px>\n",
    "\n",
    "You can convert from the class integer encoding to actual flower names with the `cat_to_name.json` file (should have been loaded earlier in the notebook). To show a PyTorch tensor as an image, use the `imshow` function defined above."
   ]
  },
  {
   "cell_type": "code",
   "execution_count": 208,
   "metadata": {},
   "outputs": [
    {
     "data": {
      "image/png": "[encoded data removed]",
      "text/plain": [
       "<Figure size 432x432 with 2 Axes>"
      ]
     },
     "metadata": {
      "needs_background": "light"
     },
     "output_type": "display_data"
    }
   ],
   "source": [
    "# TODO: Display an image along with the top 5 classes\n",
    "image = Image.open(image_path)\n",
    "image = process_image(image)\n",
    "    \n",
    "flower_index = image_path.split('/')[2]\n",
    "flower_title = cat_to_name[flower_index]\n",
    "\n",
    "fig = plt.figure(figsize=(6,6))\n",
    "ax1 = plt.subplot2grid((15,9), (0,0), colspan=9, rowspan=9)\n",
    "ax2 = plt.subplot2grid((15,9), (9,2), colspan=5, rowspan=5)\n",
    "ax1.set_title(flower_title)\n",
    "imshow(image, ax1)\n",
    "\n",
    "\n",
    "labels = []\n",
    "for cl in classes:\n",
    "    labels.append(cat_to_name[cl])\n",
    "y_pos = np.arange(5)\n",
    "ax2.set_yticks(y_pos)\n",
    "ax2.set_yticklabels(labels)\n",
    "ax2.invert_yaxis()\n",
    "ax2.set_xlabel('Probability')\n",
    "ax2.barh(y_pos, probabilities, xerr=0, align='center')\n",
    "\n",
    "plt.show()"
   ]
  }
 ],
 "metadata": {
  "kernelspec": {
   "display_name": "Python 3",
   "language": "python",
   "name": "python3"
  },
  "language_info": {
   "codemirror_mode": {
    "name": "ipython",
    "version": 3
   },
   "file_extension": ".py",
   "mimetype": "text/x-python",
   "name": "python",
   "nbconvert_exporter": "python",
   "pygments_lexer": "ipython3",
   "version": "3.7.3"
  }
 },
 "nbformat": 4,
 "nbformat_minor": 2
}
